{
 "cells": [
  {
   "cell_type": "markdown",
   "id": "a339a2d8",
   "metadata": {},
   "source": [
    "# 1.\tImport the necessary package to\n",
    "a.\tSet the current working directory\n",
    "b.\tChange the working directory\n"
   ]
  },
  {
   "cell_type": "code",
   "execution_count": 3,
   "id": "e8db233c",
   "metadata": {},
   "outputs": [],
   "source": [
    "import os"
   ]
  },
  {
   "cell_type": "code",
   "execution_count": 4,
   "id": "86a11edb",
   "metadata": {},
   "outputs": [
    {
     "data": {
      "text/plain": [
       "'C:\\\\Users\\\\Acer\\\\Desktop\\\\Inceptez\\\\Python\\\\Basics'"
      ]
     },
     "execution_count": 4,
     "metadata": {},
     "output_type": "execute_result"
    }
   ],
   "source": [
    "os.getcwd()"
   ]
  },
  {
   "cell_type": "code",
   "execution_count": 14,
   "id": "d6c6744d",
   "metadata": {},
   "outputs": [],
   "source": [
    "os.chdir('C:\\\\Users\\\\Acer\\\\Desktop\\\\Inceptez')"
   ]
  },
  {
   "cell_type": "code",
   "execution_count": 15,
   "id": "74d50415",
   "metadata": {},
   "outputs": [
    {
     "data": {
      "text/plain": [
       "'C:\\\\Users\\\\Acer\\\\Desktop\\\\Inceptez'"
      ]
     },
     "execution_count": 15,
     "metadata": {},
     "output_type": "execute_result"
    }
   ],
   "source": [
    "os.getcwd()"
   ]
  },
  {
   "cell_type": "markdown",
   "id": "dd840e5e",
   "metadata": {},
   "source": [
    "# 2. create the string, int and float variable and delete them all in the next cell\t"
   ]
  },
  {
   "cell_type": "code",
   "execution_count": 30,
   "id": "048b8867",
   "metadata": {},
   "outputs": [],
   "source": [
    "strvar = ('koushiya')"
   ]
  },
  {
   "cell_type": "code",
   "execution_count": 31,
   "id": "fc325cc1",
   "metadata": {},
   "outputs": [
    {
     "name": "stdout",
     "output_type": "stream",
     "text": [
      "koushiya\n"
     ]
    }
   ],
   "source": [
    "print(strvar)"
   ]
  },
  {
   "cell_type": "code",
   "execution_count": 33,
   "id": "84d5d1ae",
   "metadata": {},
   "outputs": [],
   "source": [
    "intvar = (1,2,-4)"
   ]
  },
  {
   "cell_type": "code",
   "execution_count": 34,
   "id": "569ec804",
   "metadata": {},
   "outputs": [
    {
     "name": "stdout",
     "output_type": "stream",
     "text": [
      "(1, 2, -4)\n"
     ]
    }
   ],
   "source": [
    "print(intvar)"
   ]
  },
  {
   "cell_type": "code",
   "execution_count": 4,
   "id": "67ed012a",
   "metadata": {},
   "outputs": [],
   "source": [
    "floatvar = (5.25)"
   ]
  },
  {
   "cell_type": "code",
   "execution_count": 5,
   "id": "2f79e531",
   "metadata": {},
   "outputs": [
    {
     "name": "stdout",
     "output_type": "stream",
     "text": [
      "5.25\n"
     ]
    }
   ],
   "source": [
    "print(floatvar)"
   ]
  },
  {
   "cell_type": "code",
   "execution_count": 11,
   "id": "0b4e50d4",
   "metadata": {
    "scrolled": false
   },
   "outputs": [
    {
     "ename": "NameError",
     "evalue": "name 'strvar' is not defined",
     "output_type": "error",
     "traceback": [
      "\u001b[1;31m---------------------------------------------------------------------------\u001b[0m",
      "\u001b[1;31mNameError\u001b[0m                                 Traceback (most recent call last)",
      "\u001b[1;32m~\\AppData\\Local\\Temp/ipykernel_9944/1149673242.py\u001b[0m in \u001b[0;36m<module>\u001b[1;34m\u001b[0m\n\u001b[1;32m----> 1\u001b[1;33m \u001b[1;32mdel\u001b[0m\u001b[1;33m(\u001b[0m\u001b[0mstrvar\u001b[0m\u001b[1;33m,\u001b[0m \u001b[0mintvar\u001b[0m\u001b[1;33m,\u001b[0m \u001b[0mfloatvar\u001b[0m\u001b[1;33m)\u001b[0m\u001b[1;33m\u001b[0m\u001b[1;33m\u001b[0m\u001b[0m\n\u001b[0m",
      "\u001b[1;31mNameError\u001b[0m: name 'strvar' is not defined"
     ]
    }
   ],
   "source": [
    "del(strvar, intvar, floatvar)"
   ]
  },
  {
   "cell_type": "markdown",
   "id": "1886f5fd",
   "metadata": {},
   "source": [
    "# 3.\tWhat’s the result of assigning a value to a ‘keyword’?"
   ]
  },
  {
   "cell_type": "code",
   "execution_count": null,
   "id": "1622c9e8",
   "metadata": {},
   "outputs": [],
   "source": [
    "pass= \"100\""
   ]
  },
  {
   "cell_type": "code",
   "execution_count": 13,
   "id": "54a1f6d6",
   "metadata": {},
   "outputs": [
    {
     "ename": "SyntaxError",
     "evalue": "invalid syntax (Temp/ipykernel_9944/635316705.py, line 1)",
     "output_type": "error",
     "traceback": [
      "\u001b[1;36m  File \u001b[1;32m\"C:\\Users\\Acer\\AppData\\Local\\Temp/ipykernel_9944/635316705.py\"\u001b[1;36m, line \u001b[1;32m1\u001b[0m\n\u001b[1;33m    print(pass)\u001b[0m\n\u001b[1;37m          ^\u001b[0m\n\u001b[1;31mSyntaxError\u001b[0m\u001b[1;31m:\u001b[0m invalid syntax\n"
     ]
    }
   ],
   "source": [
    "print(pass)"
   ]
  },
  {
   "cell_type": "markdown",
   "id": "6856ac16",
   "metadata": {},
   "source": [
    "# 4.\tHow to write a multi-line statement and assign it to a variable (Note: Without using a backslash “\\” at the end of each line)"
   ]
  },
  {
   "cell_type": "code",
   "execution_count": 16,
   "id": "eb7fd007",
   "metadata": {
    "scrolled": false
   },
   "outputs": [],
   "source": [
    "p = \"\"\"python1\n",
    "python2\n",
    "python3\"\"\""
   ]
  },
  {
   "cell_type": "code",
   "execution_count": 17,
   "id": "c7c80299",
   "metadata": {},
   "outputs": [
    {
     "name": "stdout",
     "output_type": "stream",
     "text": [
      "python1\n",
      "python2\n",
      "python3\n"
     ]
    }
   ],
   "source": [
    "print(p)"
   ]
  },
  {
   "cell_type": "markdown",
   "id": "6e6b6d43",
   "metadata": {},
   "source": [
    "# 5.\tPrint the list of numbers from 100 to 999 with an interval (step size) of 8 between the numbers"
   ]
  },
  {
   "cell_type": "code",
   "execution_count": 3,
   "id": "94d7619d",
   "metadata": {},
   "outputs": [
    {
     "name": "stdout",
     "output_type": "stream",
     "text": [
      "100\n",
      "108\n",
      "116\n",
      "124\n",
      "132\n",
      "140\n",
      "148\n",
      "156\n",
      "164\n",
      "172\n",
      "180\n",
      "188\n",
      "196\n",
      "204\n",
      "212\n",
      "220\n",
      "228\n",
      "236\n",
      "244\n",
      "252\n",
      "260\n",
      "268\n",
      "276\n",
      "284\n",
      "292\n",
      "300\n",
      "308\n",
      "316\n",
      "324\n",
      "332\n",
      "340\n",
      "348\n",
      "356\n",
      "364\n",
      "372\n",
      "380\n",
      "388\n",
      "396\n",
      "404\n",
      "412\n",
      "420\n",
      "428\n",
      "436\n",
      "444\n",
      "452\n",
      "460\n",
      "468\n",
      "476\n",
      "484\n",
      "492\n",
      "500\n",
      "508\n",
      "516\n",
      "524\n",
      "532\n",
      "540\n",
      "548\n",
      "556\n",
      "564\n",
      "572\n",
      "580\n",
      "588\n",
      "596\n",
      "604\n",
      "612\n",
      "620\n",
      "628\n",
      "636\n",
      "644\n",
      "652\n",
      "660\n",
      "668\n",
      "676\n",
      "684\n",
      "692\n",
      "700\n",
      "708\n",
      "716\n",
      "724\n",
      "732\n",
      "740\n",
      "748\n",
      "756\n",
      "764\n",
      "772\n",
      "780\n",
      "788\n",
      "796\n",
      "804\n",
      "812\n",
      "820\n",
      "828\n",
      "836\n",
      "844\n",
      "852\n",
      "860\n",
      "868\n",
      "876\n",
      "884\n",
      "892\n",
      "900\n",
      "908\n",
      "916\n",
      "924\n",
      "932\n",
      "940\n",
      "948\n",
      "956\n",
      "964\n",
      "972\n",
      "980\n",
      "988\n",
      "996\n"
     ]
    }
   ],
   "source": [
    "for i in range(100,999,8):\n",
    "    print(i)"
   ]
  },
  {
   "cell_type": "markdown",
   "id": "237d7e68",
   "metadata": {},
   "source": [
    "# 6.\tWrite a “for” loop to print out the ‘n’ values and break out of the statement if the value is ‘n/2’"
   ]
  },
  {
   "cell_type": "code",
   "execution_count": 1,
   "id": "f4821988",
   "metadata": {},
   "outputs": [
    {
     "data": {
      "text/plain": [
       "[10, 40]"
      ]
     },
     "execution_count": 1,
     "metadata": {},
     "output_type": "execute_result"
    }
   ],
   "source": [
    "n=[10,0,40]\n",
    "[a for a in n if a /2]"
   ]
  },
  {
   "cell_type": "markdown",
   "id": "572fadbd",
   "metadata": {},
   "source": [
    "# 7.\tWrite a simple function and call the docstring from outside the function"
   ]
  },
  {
   "cell_type": "code",
   "execution_count": 8,
   "id": "a6911209",
   "metadata": {},
   "outputs": [
    {
     "name": "stdout",
     "output_type": "stream",
     "text": [
      "Doc string for my function.\n"
     ]
    }
   ],
   "source": [
    "def my_function():\n",
    "    \"\"\"Doc string for my function.\"\"\"\n",
    "print (my_function.__doc__)"
   ]
  },
  {
   "cell_type": "markdown",
   "id": "d0820d81",
   "metadata": {},
   "source": [
    "# 9.\tWrite a list comprehension to print the odd numbers from 0 to 100"
   ]
  },
  {
   "cell_type": "code",
   "execution_count": 16,
   "id": "977cad6c",
   "metadata": {},
   "outputs": [
    {
     "data": {
      "text/plain": [
       "[0,\n",
       " 3,\n",
       " 6,\n",
       " 9,\n",
       " 12,\n",
       " 15,\n",
       " 18,\n",
       " 21,\n",
       " 24,\n",
       " 27,\n",
       " 30,\n",
       " 33,\n",
       " 36,\n",
       " 39,\n",
       " 42,\n",
       " 45,\n",
       " 48,\n",
       " 51,\n",
       " 54,\n",
       " 57,\n",
       " 60,\n",
       " 63,\n",
       " 66,\n",
       " 69,\n",
       " 72,\n",
       " 75,\n",
       " 78,\n",
       " 81,\n",
       " 84,\n",
       " 87,\n",
       " 90,\n",
       " 93,\n",
       " 96,\n",
       " 99]"
      ]
     },
     "execution_count": 16,
     "metadata": {},
     "output_type": "execute_result"
    }
   ],
   "source": [
    "odd_num = [i for i in range(100) if i %3 ==0]\n",
    "\n",
    "odd_num"
   ]
  },
  {
   "cell_type": "markdown",
   "id": "1318d95a",
   "metadata": {},
   "source": [
    "# 10.\t Create a variable (ex: name) and store your full name in it. Then write a list comprehension to print your name excluding vowels (a, e, i, o, u)\n",
    "a.\tEx: name = Imran\n",
    "b.\tOutput = [‘m’, ‘r’, ‘n’]\n"
   ]
  },
  {
   "cell_type": "code",
   "execution_count": 18,
   "id": "70cea7ab",
   "metadata": {},
   "outputs": [
    {
     "data": {
      "text/plain": [
       "['k', 's', 'h', 'y']"
      ]
     },
     "execution_count": 18,
     "metadata": {},
     "output_type": "execute_result"
    }
   ],
   "source": [
    "name = 'koushiya'\n",
    "vowels =['a', 'e', 'i', 'o', 'u']\n",
    "[i for i in name if i not in vowels]"
   ]
  },
  {
   "cell_type": "code",
   "execution_count": null,
   "id": "878abd64",
   "metadata": {},
   "outputs": [],
   "source": []
  }
 ],
 "metadata": {
  "kernelspec": {
   "display_name": "Python 3 (ipykernel)",
   "language": "python",
   "name": "python3"
  },
  "language_info": {
   "codemirror_mode": {
    "name": "ipython",
    "version": 3
   },
   "file_extension": ".py",
   "mimetype": "text/x-python",
   "name": "python",
   "nbconvert_exporter": "python",
   "pygments_lexer": "ipython3",
   "version": "3.9.7"
  }
 },
 "nbformat": 4,
 "nbformat_minor": 5
}
