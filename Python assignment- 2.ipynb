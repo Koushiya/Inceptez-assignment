{
 "cells": [
  {
   "cell_type": "markdown",
   "id": "a4b77d1c",
   "metadata": {},
   "source": [
    "# 1.Get the input for 2 variables though “input” function and pass them to a function to return the addition of two variables"
   ]
  },
  {
   "cell_type": "code",
   "execution_count": 9,
   "id": "5f3af65b",
   "metadata": {},
   "outputs": [
    {
     "name": "stdout",
     "output_type": "stream",
     "text": [
      "10\n",
      "5\n",
      "15\n"
     ]
    }
   ],
   "source": [
    "x = int(input())\n",
    "y = int(input())\n",
    "print(x + y)"
   ]
  },
  {
   "cell_type": "markdown",
   "id": "2b45b889",
   "metadata": {},
   "source": [
    "# 2.What happens if we try to add an int with str and vice versa. Please print out the error"
   ]
  },
  {
   "cell_type": "code",
   "execution_count": 16,
   "id": "3405b8c6",
   "metadata": {},
   "outputs": [
    {
     "ename": "TypeError",
     "evalue": "can only concatenate str (not \"int\") to str",
     "output_type": "error",
     "traceback": [
      "\u001b[1;31m---------------------------------------------------------------------------\u001b[0m",
      "\u001b[1;31mTypeError\u001b[0m                                 Traceback (most recent call last)",
      "\u001b[1;32m~\\AppData\\Local\\Temp/ipykernel_5084/835872333.py\u001b[0m in \u001b[0;36m<module>\u001b[1;34m\u001b[0m\n\u001b[0;32m      1\u001b[0m \u001b[0mage\u001b[0m \u001b[1;33m=\u001b[0m \u001b[1;34m'thirty two'\u001b[0m\u001b[1;33m\u001b[0m\u001b[1;33m\u001b[0m\u001b[0m\n\u001b[0;32m      2\u001b[0m \u001b[0mnum\u001b[0m \u001b[1;33m=\u001b[0m \u001b[1;36m2\u001b[0m\u001b[1;33m\u001b[0m\u001b[1;33m\u001b[0m\u001b[0m\n\u001b[1;32m----> 3\u001b[1;33m \u001b[0mage\u001b[0m \u001b[1;33m+\u001b[0m \u001b[0mnum\u001b[0m\u001b[1;33m\u001b[0m\u001b[1;33m\u001b[0m\u001b[0m\n\u001b[0m",
      "\u001b[1;31mTypeError\u001b[0m: can only concatenate str (not \"int\") to str"
     ]
    }
   ],
   "source": [
    "age = 'thirty two'\n",
    "num = 2\n",
    "age + num"
   ]
  },
  {
   "cell_type": "markdown",
   "id": "d873d207",
   "metadata": {},
   "source": [
    "# 3.\tCreate a string variable for the word “Data Science” and see if the letter “s” is present in it using membership operators"
   ]
  },
  {
   "cell_type": "code",
   "execution_count": 19,
   "id": "1fadd4cc",
   "metadata": {},
   "outputs": [
    {
     "name": "stdout",
     "output_type": "stream",
     "text": [
      "yes\n"
     ]
    }
   ],
   "source": [
    "sub = \"data science\"\n",
    "if 's' in sub:\n",
    "    print('yes')\n",
    "else:\n",
    "    print('no')"
   ]
  },
  {
   "cell_type": "markdown",
   "id": "141c3ab3",
   "metadata": {},
   "source": [
    "# 4.\tWrite a function and pass a number list as an argument to the function. And return True if the first and last number of a given list is same. If numbers are different then return False"
   ]
  },
  {
   "cell_type": "code",
   "execution_count": 20,
   "id": "9d9fdd74",
   "metadata": {},
   "outputs": [
    {
     "data": {
      "text/plain": [
       "True"
      ]
     },
     "execution_count": 20,
     "metadata": {},
     "output_type": "execute_result"
    }
   ],
   "source": [
    "def numberFunction(numlist):\n",
    "  for a in numlist:\n",
    "    if numlist[0] == numlist[(len(numlist))-1]:\n",
    "      return True\n",
    "    else:\n",
    "      return False\n",
    "\n",
    "numberFunction([1,2,3,4,5,2,3,1])"
   ]
  },
  {
   "cell_type": "markdown",
   "id": "b25b7aa1",
   "metadata": {},
   "source": [
    "# 5.\tIterate the given list of numbers (l1) and print only those numbers which are divisible by 5. (l1 = [10, 20, 33, 46, 55])"
   ]
  },
  {
   "cell_type": "code",
   "execution_count": 24,
   "id": "b7080c48",
   "metadata": {},
   "outputs": [
    {
     "name": "stdout",
     "output_type": "stream",
     "text": [
      "10\n",
      "20\n",
      "55\n"
     ]
    }
   ],
   "source": [
    "l1 = [10, 20, 33, 46, 55]\n",
    "for i in l1:\n",
    "  if (i % 5 == 0):\n",
    "    print(i)"
   ]
  },
  {
   "cell_type": "markdown",
   "id": "0a9a0d05",
   "metadata": {},
   "source": [
    "# 6. Write a program to create function calculation() such that it can accept two variables and calculate addition and subtraction. Also, it must return both addition and subtraction in a single return call. a. Hint: Separate return values with a comma"
   ]
  },
  {
   "cell_type": "code",
   "execution_count": 32,
   "id": "3eb88ba2",
   "metadata": {},
   "outputs": [
    {
     "data": {
      "text/plain": [
       "(25, 15)"
      ]
     },
     "execution_count": 32,
     "metadata": {},
     "output_type": "execute_result"
    }
   ],
   "source": [
    "def x(a, b):\n",
    "    add = a + b\n",
    "    sub = a - b\n",
    "    return(add, sub)\n",
    "x(20, 5)\n"
   ]
  },
  {
   "cell_type": "code",
   "execution_count": null,
   "id": "b89bc8ec",
   "metadata": {},
   "outputs": [],
   "source": []
  },
  {
   "cell_type": "code",
   "execution_count": null,
   "id": "600c1286",
   "metadata": {},
   "outputs": [],
   "source": []
  }
 ],
 "metadata": {
  "kernelspec": {
   "display_name": "Python 3 (ipykernel)",
   "language": "python",
   "name": "python3"
  },
  "language_info": {
   "codemirror_mode": {
    "name": "ipython",
    "version": 3
   },
   "file_extension": ".py",
   "mimetype": "text/x-python",
   "name": "python",
   "nbconvert_exporter": "python",
   "pygments_lexer": "ipython3",
   "version": "3.9.7"
  }
 },
 "nbformat": 4,
 "nbformat_minor": 5
}
